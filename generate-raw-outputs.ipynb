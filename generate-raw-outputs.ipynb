{
 "cells": [
  {
   "cell_type": "code",
   "execution_count": 1,
   "id": "b63adae9",
   "metadata": {},
   "outputs": [],
   "source": [
    "import pandas as pd\n",
    "from simpletransformers.classification import ClassificationModel"
   ]
  },
  {
   "cell_type": "code",
   "execution_count": null,
   "id": "efafbd2b",
   "metadata": {},
   "outputs": [],
   "source": []
  },
  {
   "cell_type": "markdown",
   "id": "39667fb2",
   "metadata": {},
   "source": [
    "Here we predict raw outputs for all available data. Given that this data has used for training the model, raw outputs are employed solely for the purpose of plotting."
   ]
  },
  {
   "cell_type": "code",
   "execution_count": 2,
   "id": "f25acf6c",
   "metadata": {},
   "outputs": [],
   "source": [
    "df = pd.read_csv('article-data/article-data.csv', index_col=0)"
   ]
  },
  {
   "cell_type": "code",
   "execution_count": 7,
   "id": "41e5c3dc",
   "metadata": {
    "scrolled": true
   },
   "outputs": [],
   "source": [
    "model = ClassificationModel(\"bert\", \"model-results/\", use_cuda=False)"
   ]
  },
  {
   "cell_type": "code",
   "execution_count": 13,
   "id": "71939fa2",
   "metadata": {},
   "outputs": [
    {
     "data": {
      "application/vnd.jupyter.widget-view+json": {
       "model_id": "82fcdd75ceab454080516f93e7d3fedd",
       "version_major": 2,
       "version_minor": 0
      },
      "text/plain": [
       "  0%|          | 0/388 [00:00<?, ?it/s]"
      ]
     },
     "metadata": {},
     "output_type": "display_data"
    },
    {
     "data": {
      "application/vnd.jupyter.widget-view+json": {
       "model_id": "0e478634adb74f34b74437ce8d0759c5",
       "version_major": 2,
       "version_minor": 0
      },
      "text/plain": [
       "  0%|          | 0/49 [00:00<?, ?it/s]"
      ]
     },
     "metadata": {},
     "output_type": "display_data"
    }
   ],
   "source": [
    "predictions, raw_outputs = model.predict(list(df['text']))"
   ]
  },
  {
   "cell_type": "code",
   "execution_count": 20,
   "id": "dd242879",
   "metadata": {},
   "outputs": [],
   "source": [
    "df['raw-predictions'] = [tuple(x) for x in raw_outputs]"
   ]
  },
  {
   "cell_type": "code",
   "execution_count": 22,
   "id": "c993e800",
   "metadata": {},
   "outputs": [],
   "source": [
    "df.to_csv('article-data/article-data-with-raw-predictions.csv')"
   ]
  },
  {
   "cell_type": "code",
   "execution_count": null,
   "id": "1f4cc3de",
   "metadata": {},
   "outputs": [],
   "source": []
  }
 ],
 "metadata": {
  "kernelspec": {
   "display_name": "Python 3 (ipykernel)",
   "language": "python",
   "name": "python3"
  },
  "language_info": {
   "codemirror_mode": {
    "name": "ipython",
    "version": 3
   },
   "file_extension": ".py",
   "mimetype": "text/x-python",
   "name": "python",
   "nbconvert_exporter": "python",
   "pygments_lexer": "ipython3",
   "version": "3.10.1"
  }
 },
 "nbformat": 4,
 "nbformat_minor": 5
}
